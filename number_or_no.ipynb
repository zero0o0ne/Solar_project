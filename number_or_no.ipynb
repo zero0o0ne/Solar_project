{
 "cells": [
  {
   "cell_type": "code",
   "execution_count": 1,
   "metadata": {},
   "outputs": [],
   "source": [
    "import numpy as np\n",
    "import matplotlib.pyplot as plt\n",
    "import tensorflow as tf\n",
    "import pandas as pd\n",
    "from skimage import io\n",
    "from skimage import transform\n",
    "from sklearn.utils import shuffle\n",
    "from keras.utils import np_utils\n",
    "import scipy.stats"
   ]
  },
  {
   "cell_type": "code",
   "execution_count": 2,
   "metadata": {},
   "outputs": [],
   "source": [
    "frame = pd.read_csv('samples_with_marks.csv')\n",
    "frame.head\n",
    "filenames = np.asarray(frame['filename'])\n",
    "result_ = np.asarray(frame['result'])\n",
    "\n",
    "Y_ = np.ndarray((filenames.size, 32, 32))\n",
    "for i in range(filenames.size):\n",
    "    X = io.imread(filenames[i], as_gray = True) \n",
    "    #максимальная длина картинки в наших данных - 31\n",
    "    X = np.r_[np.c_[X, np.ones((X.size // X[1].size, 32 - X[1].size))], np.ones((32-X.size // X[1].size, 32))] \n",
    "    Y_[i] = X\n",
    "Y_ = 1-Y_\n",
    "Y_ = Y_.astype('float32')"
   ]
  },
  {
   "cell_type": "code",
   "execution_count": 8,
   "metadata": {},
   "outputs": [],
   "source": [
    "result_ = np.asarray([0 if result_[i] == 10 else 1 for i in range(len(result_))])"
   ]
  },
  {
   "cell_type": "code",
   "execution_count": 9,
   "metadata": {},
   "outputs": [],
   "source": [
    "Y_, result_ = shuffle(Y_, result_)\n",
    "Y_ = np.around(Y_)\n",
    "Y_test = Y_[::5]\n",
    "result_test = result_[::5]     \n",
    "Y = np.delete(Y_, list(range(0, Y_.shape[0], 5)), axis=0)\n",
    "result = np.delete(result_, list(range(0, result_.shape[0], 5)), axis=0)\n",
    "num_classes = 2"
   ]
  },
  {
   "cell_type": "code",
   "execution_count": 11,
   "metadata": {},
   "outputs": [
    {
     "name": "stdout",
     "output_type": "stream",
     "text": [
      "Epoch 1/2\n",
      "47/47 [==============================] - 5s 96ms/step - loss: 0.0150 - accuracy: 0.9899\n",
      "Epoch 2/2\n",
      "47/47 [==============================] - 4s 84ms/step - loss: 0.0000e+00 - accuracy: 1.0000\n",
      "37/37 [==============================] - 0s 8ms/step - loss: 0.0000e+00 - accuracy: 1.0000\n"
     ]
    },
    {
     "data": {
      "text/plain": [
       "[0.0, 1.0]"
      ]
     },
     "execution_count": 11,
     "metadata": {},
     "output_type": "execute_result"
    }
   ],
   "source": [
    "model_211 = tf.keras.models.Sequential([\n",
    "    tf.keras.layers.Conv2D(input_shape=(32, 32, 1), filters=32, kernel_size=(5,5), padding='same', activation='relu'),\n",
    "    tf.keras.layers.Dropout(.25),\n",
    "    tf.keras.layers.Conv2D(filters=64, kernel_size=(5,5), padding='same', activation='relu'),\n",
    "    tf.keras.layers.Dropout(.65),\n",
    "    tf.keras.layers.MaxPool2D(pool_size=(2, 2)),\n",
    "    tf.keras.layers.Conv2D(filters=64, kernel_size=(3,3), padding='same', activation='relu'),\n",
    "    tf.keras.layers.Dropout(.25),\n",
    "    tf.keras.layers.Conv2D(filters=128, kernel_size=(3,3), padding='same', activation='relu'),\n",
    "    tf.keras.layers.Dropout(.65),\n",
    "    tf.keras.layers.MaxPool2D(pool_size=(2, 2)),\n",
    "    tf.keras.layers.Flatten(),\n",
    "    tf.keras.layers.Dense(256*8, activation=tf.nn.relu),\n",
    "    tf.keras.layers.Dropout(.6),\n",
    "    tf.keras.layers.Dense(num_classes, activation=tf.nn.softmax)\n",
    "])\n",
    "weights_file = 'weights.hdf5'\n",
    "checkpoint = tf.keras.callbacks.ModelCheckpoint(weights_file, monitor='acc')\n",
    "\n",
    "model_211.compile(\n",
    "    optimizer='adam',\n",
    "    loss='sparse_categorical_crossentropy',\n",
    "    metrics=['accuracy'])\n",
    "\n",
    "model_211.fit(Y.reshape(-1, 32, 32, 1), result, epochs=2, batch_size = 100, callbacks=[checkpoint])\n",
    "model_211.evaluate(Y_test.reshape(-1, 32, 32, 1), result_test)"
   ]
  },
  {
   "cell_type": "code",
   "execution_count": null,
   "metadata": {},
   "outputs": [],
   "source": []
  }
 ],
 "metadata": {
  "kernelspec": {
   "display_name": "Python 3",
   "language": "python",
   "name": "python3"
  },
  "language_info": {
   "codemirror_mode": {
    "name": "ipython",
    "version": 3
   },
   "file_extension": ".py",
   "mimetype": "text/x-python",
   "name": "python",
   "nbconvert_exporter": "python",
   "pygments_lexer": "ipython3",
   "version": "3.8.5"
  }
 },
 "nbformat": 4,
 "nbformat_minor": 4
}
