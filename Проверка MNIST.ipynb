{
 "cells": [
  {
   "cell_type": "code",
   "execution_count": 2,
   "metadata": {},
   "outputs": [],
   "source": [
    "from keras.datasets import mnist \n",
    "from keras.models import Model \n",
    "from keras.layers import Input, Dense \n",
    "from keras.utils import np_utils\n",
    "from skimage import io\n",
    "import numpy as np"
   ]
  },
  {
   "cell_type": "markdown",
   "metadata": {},
   "source": [
    "## Наши данные, в которых размер картинки приведен к 28х28"
   ]
  },
  {
   "cell_type": "code",
   "execution_count": 3,
   "metadata": {},
   "outputs": [],
   "source": [
    "Y = np.ndarray((100, 28, 28))\n",
    "for i in range(100):\n",
    "    X = io.imread('samples/image (' + str(i+1) + ').jpg', as_gray = True) \n",
    "    #максимальная длина картинки в наших данных - 31\n",
    "    X = np.r_[np.c_[X, np.ones((X.size // X[1].size, 31 - X[1].size))], np.ones((31-X.size // X[1].size, 31))] \n",
    "    Y[i] = X[:28, :28]\n",
    "    \n",
    "Y = 1-Y\n",
    "Y = Y.reshape(100, 784).astype('float32')\n",
    "ans = np_utils.to_categorical([5,0,4,1,7,5,0,4,0,0,1,5,0,5,0,5,0,2,4,3,5,4,5,5,3,5,5,5,5,7,1,8,9,1,8,1,8,1,9,7,1,9,2,1,9,1,1,9,8,1,9,2,0,0,1,1,1,9,9,7,2,1,9,1,1,9,5,2,0,2,3,2,0,0,2,0,1,1,9,2,1,9,1,1,9,2,0,0,2,0,1,1,2,9,5,2,0,0,2,0], 10)"
   ]
  },
  {
   "cell_type": "markdown",
   "metadata": {},
   "source": [
    "## Обучающая выборка, а так же тест MNIST"
   ]
  },
  {
   "cell_type": "code",
   "execution_count": 4,
   "metadata": {},
   "outputs": [],
   "source": [
    "num_train = 60000\n",
    "num_test = 10000\n",
    "height, width, depth = 28, 28, 1 \n",
    "num_classes = 10\n",
    "\n",
    "(X_train, y_train), (X_test, y_test) = mnist.load_data()\n",
    "\n",
    "X_train = X_train.reshape(num_train, height * width)\n",
    "X_test = X_test.reshape(num_test, height * width)\n",
    "X_train = X_train.astype('float32') \n",
    "X_test = X_test.astype('float32')\n",
    "X_train /= 255\n",
    "X_test /= 255\n",
    "Y_train = np_utils.to_categorical(y_train, num_classes)\n",
    "Y_test = np_utils.to_categorical(y_test, num_classes)"
   ]
  },
  {
   "cell_type": "markdown",
   "metadata": {},
   "source": [
    "## Гиперпарметры, которые я использовал для обучения"
   ]
  },
  {
   "cell_type": "code",
   "execution_count": 5,
   "metadata": {},
   "outputs": [],
   "source": [
    "batch_size = 128\n",
    "num_epochs = 20\n",
    "hidden_size = 512"
   ]
  },
  {
   "cell_type": "markdown",
   "metadata": {},
   "source": [
    "## Создание и обучение модели"
   ]
  },
  {
   "cell_type": "code",
   "execution_count": 6,
   "metadata": {},
   "outputs": [
    {
     "name": "stdout",
     "output_type": "stream",
     "text": [
      "Epoch 1/20\n",
      "422/422 [==============================] - 5s 9ms/step - loss: 0.4373 - accuracy: 0.8686 - val_loss: 0.0910 - val_accuracy: 0.9732\n",
      "Epoch 2/20\n",
      "422/422 [==============================] - 3s 8ms/step - loss: 0.0944 - accuracy: 0.9714 - val_loss: 0.0794 - val_accuracy: 0.9762\n",
      "Epoch 3/20\n",
      "422/422 [==============================] - 3s 8ms/step - loss: 0.0506 - accuracy: 0.9843 - val_loss: 0.0759 - val_accuracy: 0.9795\n",
      "Epoch 4/20\n",
      "422/422 [==============================] - 3s 8ms/step - loss: 0.0366 - accuracy: 0.9881 - val_loss: 0.0688 - val_accuracy: 0.9805\n",
      "Epoch 5/20\n",
      "422/422 [==============================] - 3s 8ms/step - loss: 0.0230 - accuracy: 0.9927 - val_loss: 0.0652 - val_accuracy: 0.9822\n",
      "Epoch 6/20\n",
      "422/422 [==============================] - 3s 8ms/step - loss: 0.0163 - accuracy: 0.9949 - val_loss: 0.0753 - val_accuracy: 0.9827\n",
      "Epoch 7/20\n",
      "422/422 [==============================] - 3s 8ms/step - loss: 0.0198 - accuracy: 0.9932 - val_loss: 0.0787 - val_accuracy: 0.9805\n",
      "Epoch 8/20\n",
      "422/422 [==============================] - 4s 9ms/step - loss: 0.0121 - accuracy: 0.9962 - val_loss: 0.1270 - val_accuracy: 0.9737\n",
      "Epoch 9/20\n",
      "422/422 [==============================] - 4s 8ms/step - loss: 0.0184 - accuracy: 0.9935 - val_loss: 0.0675 - val_accuracy: 0.9827\n",
      "Epoch 10/20\n",
      "422/422 [==============================] - 3s 8ms/step - loss: 0.0069 - accuracy: 0.9978 - val_loss: 0.0941 - val_accuracy: 0.9792\n",
      "Epoch 11/20\n",
      "422/422 [==============================] - 3s 8ms/step - loss: 0.0085 - accuracy: 0.9971 - val_loss: 0.1591 - val_accuracy: 0.9708\n",
      "Epoch 12/20\n",
      "422/422 [==============================] - 3s 8ms/step - loss: 0.0160 - accuracy: 0.9940 - val_loss: 0.0871 - val_accuracy: 0.9830\n",
      "Epoch 13/20\n",
      "422/422 [==============================] - 3s 8ms/step - loss: 0.0074 - accuracy: 0.9973 - val_loss: 0.0888 - val_accuracy: 0.9822\n",
      "Epoch 14/20\n",
      "422/422 [==============================] - 4s 8ms/step - loss: 0.0085 - accuracy: 0.9971 - val_loss: 0.0953 - val_accuracy: 0.9820\n",
      "Epoch 15/20\n",
      "422/422 [==============================] - 4s 8ms/step - loss: 0.0071 - accuracy: 0.9975 - val_loss: 0.0973 - val_accuracy: 0.9830\n",
      "Epoch 16/20\n",
      "422/422 [==============================] - 3s 8ms/step - loss: 0.0123 - accuracy: 0.9959 - val_loss: 0.0968 - val_accuracy: 0.9825\n",
      "Epoch 17/20\n",
      "422/422 [==============================] - 4s 8ms/step - loss: 0.0060 - accuracy: 0.9985 - val_loss: 0.0898 - val_accuracy: 0.9828\n",
      "Epoch 18/20\n",
      "422/422 [==============================] - 4s 9ms/step - loss: 0.0061 - accuracy: 0.9979 - val_loss: 0.1030 - val_accuracy: 0.9798\n",
      "Epoch 19/20\n",
      "422/422 [==============================] - 3s 8ms/step - loss: 0.0096 - accuracy: 0.9971 - val_loss: 0.1127 - val_accuracy: 0.9795\n",
      "Epoch 20/20\n",
      "422/422 [==============================] - 3s 8ms/step - loss: 0.0098 - accuracy: 0.9965 - val_loss: 0.0990 - val_accuracy: 0.9823\n"
     ]
    },
    {
     "data": {
      "text/plain": [
       "<tensorflow.python.keras.callbacks.History at 0x1ac5fe5f3a0>"
      ]
     },
     "execution_count": 6,
     "metadata": {},
     "output_type": "execute_result"
    }
   ],
   "source": [
    "inp = Input(shape = (height * width,))\n",
    "hidden_1 = Dense(hidden_size, activation = \"relu\")(inp)\n",
    "hidden_2 = Dense(hidden_size, activation = \"relu\")(hidden_1)\n",
    "out = Dense(num_classes, activation = \"softmax\")(hidden_2)\n",
    "\n",
    "model = Model(inp, out)\n",
    "model.compile (loss = \"categorical_crossentropy\", optimizer = \"adam\", metrics=['accuracy'])\n",
    "model.fit(X_train, Y_train, batch_size=batch_size, epochs=num_epochs, verbose=1, validation_split=0.1) "
   ]
  },
  {
   "cell_type": "markdown",
   "metadata": {},
   "source": [
    "## Результаты модели на тестах MNIST"
   ]
  },
  {
   "cell_type": "code",
   "execution_count": 7,
   "metadata": {},
   "outputs": [
    {
     "name": "stdout",
     "output_type": "stream",
     "text": [
      "313/313 [==============================] - 1s 2ms/step - loss: 0.0933 - accuracy: 0.9813\n"
     ]
    },
    {
     "data": {
      "text/plain": [
       "[0.09328365325927734, 0.9812999963760376]"
      ]
     },
     "execution_count": 7,
     "metadata": {},
     "output_type": "execute_result"
    }
   ],
   "source": [
    "model.evaluate(X_test, Y_test, verbose=1)"
   ]
  },
  {
   "cell_type": "markdown",
   "metadata": {},
   "source": [
    "## Результаты модели на наших данных"
   ]
  },
  {
   "cell_type": "code",
   "execution_count": 8,
   "metadata": {},
   "outputs": [
    {
     "name": "stdout",
     "output_type": "stream",
     "text": [
      "4/4 [==============================] - 0s 7ms/step - loss: 25.3133 - accuracy: 0.1600\n"
     ]
    },
    {
     "data": {
      "text/plain": [
       "[25.313329696655273, 0.1599999964237213]"
      ]
     },
     "execution_count": 8,
     "metadata": {},
     "output_type": "execute_result"
    }
   ],
   "source": [
    "model.evaluate(Y[:100], ans, verbose=1)"
   ]
  },
  {
   "cell_type": "markdown",
   "metadata": {},
   "source": [
    "Так как гиперпараметры подобраны адекватно и модель выдает неплохие результаты на тестах MNIST, очевидно, что эти данные не подходят для обучения под наши задачи"
   ]
  }
 ],
 "metadata": {
  "kernelspec": {
   "display_name": "Python 3",
   "language": "python",
   "name": "python3"
  },
  "language_info": {
   "codemirror_mode": {
    "name": "ipython",
    "version": 3
   },
   "file_extension": ".py",
   "mimetype": "text/x-python",
   "name": "python",
   "nbconvert_exporter": "python",
   "pygments_lexer": "ipython3",
   "version": "3.8.5"
  }
 },
 "nbformat": 4,
 "nbformat_minor": 4
}
